{
 "cells": [
  {
   "cell_type": "code",
   "execution_count": 1,
   "metadata": {},
   "outputs": [
    {
     "data": {
      "text/plain": [
       "<Figure size 2000x200 with 1 Axes>"
      ]
     },
     "metadata": {},
     "output_type": "display_data"
    }
   ],
   "source": [
    "import numpy as np\n",
    "import matplotlib.pyplot as plt \n",
    "from matplotlib.ticker import (AutoMinorLocator, MultipleLocator)\n",
    "import pandas as pd\n",
    "from PIL import Image\n",
    "import cv2\n",
    "\n",
    "first_input_load = pd.read_csv(r'datapoint.txt')\n",
    "get_input = first_input_load.to_numpy()\n",
    "first_input = []\n",
    "for a in get_input:\n",
    "    first_input.append(float(a))\n",
    "first_input = np.asarray(first_input)\n",
    "\n",
    "\n",
    "def datatoimgfunc(inputlist):\n",
    "    plt.rcParams[\"figure.figsize\"] = (20, 2)\n",
    "    plt.xlim([0, len(inputlist)])\n",
    "    # plt.ylim([0, 120])\n",
    "    plt.axis('off')\n",
    "    plt.tight_layout()\n",
    "    plt.plot(inputlist,'k')\n",
    "    plt.savefig('datatoimage.png')\n",
    "    return plt.imread('datatoimage.png')\n",
    "\n",
    "to_use = datatoimgfunc(first_input)\n",
    "plt.show()"
   ]
  },
  {
   "cell_type": "code",
   "execution_count": null,
   "metadata": {},
   "outputs": [],
   "source": [
    "def fillblank(image_name):\n",
    "    im_in = cv2.imread(image_name, cv2.IMREAD_GRAYSCALE)\n",
    "    des = cv2.bitwise_not(im_in)\n",
    "    contour,hier = cv2.findContours(des,cv2.RETR_CCOMP,cv2.CHAIN_APPROX_SIMPLE)\n",
    "\n",
    "    for cnt in contour:\n",
    "        cv2.drawContours(des,[cnt],0,255,-1)\n",
    "\n",
    "    gray = cv2.bitwise_not(des)\n",
    "    return gray\n",
    "\n",
    "filled_image = fillblank('linedraw.png')\n",
    "cv2.imwrite('linedraw_updated.png',filled_image)\n",
    "cv2.imshow('linedraw',filled_image)\n",
    "cv2.waitKey(0)"
   ]
  },
  {
   "cell_type": "code",
   "execution_count": null,
   "metadata": {},
   "outputs": [],
   "source": [
    "img = cv2.imread('google_noisy.png', 1)\n",
    "\n",
    "kernel = np.ones((5,5),np.float32)/25\n",
    "filt_2D = cv2.filter2D(img, -1, kernel)  # Convolution using the kernel we provide\n",
    "blur = cv2.blur(img, (5,5))  # Convolution with a normalized filter. Same as above for this example.\n",
    "blur_gaussian = cv2.GaussianBlur(img, (5,5), 0)  # Gaussian kernel is used.\n",
    "median_blur = cv2.medianBlur(img,3)\n",
    "bilateral_blur = cv2.bilateralFilter(img,9,75,75)\n",
    "\n",
    "cv2.imshow('Original', img)\n",
    "cv2.imshow('2D Filter', filt_2D)\n",
    "cv2.imshow('Blur', blur)\n",
    "cv2.imshow('Gaussian Blur', blur_gaussian)\n",
    "cv2.imshow('Median Blur', median_blur)\n",
    "cv2.imshow('Bilateral Blur', bilateral_blur)\n",
    "cv2.waitKey(0)\n",
    "cv2.destroyAllWindows()\n"
   ]
  },
  {
   "cell_type": "code",
   "execution_count": null,
   "metadata": {},
   "outputs": [],
   "source": [
    "img = cv2.imread(\"neuron.jpg\", 0)\n",
    "edges = cv2.Canny(img,100,200)   #Image, min and max values\n",
    "\n",
    "cv2.imshow(\"Original Image\", img)\n",
    "cv2.imshow(\"Canny\", edges)\n",
    "\n",
    "cv2.waitKey(0)          \n",
    "cv2.destroyAllWindows() "
   ]
  },
  {
   "cell_type": "code",
   "execution_count": 17,
   "metadata": {},
   "outputs": [],
   "source": [
    "img = cv2.imread(\"google_noisy.png\", 0)\n",
    "\n",
    "ret,th = cv2.threshold(img,0,255,cv2.THRESH_BINARY+cv2.THRESH_OTSU)\n",
    "kernel = np.ones((3,3),np.uint8)   # 3x3 kernel with all ones. \n",
    "erosion = cv2.erode(th,kernel,iterations = 1)  #Erodes pixels based on the kernel defined\n",
    "dilation = cv2.dilate(erosion,kernel,iterations = 1)  #Apply dilation after erosion to see the effect. \n",
    "#Erosion followed by dilation can be a single operation called opening\n",
    "opening = cv2.morphologyEx(th, cv2.MORPH_OPEN, kernel)  # Compare this image with the previous one\n",
    "#Closing is opposit, dilation followed by erosion.\n",
    "closing = cv2.morphologyEx(th, cv2.MORPH_CLOSE, kernel)\n",
    "#Morphological gradient,difference between dilation and erosion of an image\n",
    "gradient = cv2.morphologyEx(th, cv2.MORPH_GRADIENT, kernel)\n",
    "#difference between input image and Opening of the image. \n",
    "tophat = cv2.morphologyEx(th, cv2.MORPH_TOPHAT, kernel)\n",
    "# difference between the closing of the input image and input image.\n",
    "blackhat = cv2.morphologyEx(img, cv2.MORPH_BLACKHAT, kernel)\n",
    "\n",
    "cv2.imshow(\"Original Image\", img)\n",
    "cv2.imshow(\"Eroded Image\", erosion)\n",
    "cv2.imshow(\"Dilation Image\", dilation)\n",
    "cv2.imshow(\"Gradient Image\", gradient)\n",
    "cv2.imshow(\"Tophat Image\", tophat)\n",
    "cv2.imshow(\"blackhat Image\", blackhat)\n",
    "cv2.waitKey(0)          \n",
    "cv2.destroyAllWindows() "
   ]
  },
  {
   "cell_type": "code",
   "execution_count": null,
   "metadata": {},
   "outputs": [],
   "source": [
    "from scipy import ndimage\n",
    "from skimage import measure, color, io\n",
    "from skimage.segmentation import clear_border\n",
    "\n",
    "# Load the image\n",
    "img = cv2.imread(\"Osteosarcoma.png\")\n",
    "\n",
    "if img is None:\n",
    "    raise ValueError(\"Image not found. Check the file path.\")\n",
    "gray_img = cv2.cvtColor(img, cv2.COLOR_BGR2GRAY)\n",
    "\n",
    "ret1, thresh = cv2.threshold(gray_img, 0, 255, cv2.THRESH_BINARY + cv2.THRESH_OTSU)\n",
    "kernel = np.ones((3, 3), np.uint8)\n",
    "opening = cv2.morphologyEx(thresh, cv2.MORPH_OPEN, kernel, iterations=2)\n",
    "opening = clear_border(opening)\n",
    "sure_bg = cv2.dilate(opening, kernel, iterations=10)\n",
    "\n",
    "dist_transform = cv2.distanceTransform(opening, cv2.DIST_L2, 5)\n",
    "ret2, sure_fg = cv2.threshold(dist_transform, 0.5 * dist_transform.max(), 255, 0)\n",
    "sure_fg = np.uint8(sure_fg)\n",
    "unknown = cv2.subtract(sure_bg, sure_fg)\n",
    "ret3, markers = cv2.connectedComponents(sure_fg)\n",
    "markers = markers + 10  # Add 10 to all labels so that sure background is not 0, but 10\n",
    "markers[unknown == 255] = 0  # Mark the region of unknown with zero\n",
    "markers = cv2.watershed(img, markers)\n",
    "img[markers == -1] = [0, 255, 255]  # Mark boundaries with yellow color\n",
    "\n",
    "img2 = color.label2rgb(markers, bg_label=0, bg_color=[0, 0, 0], colors=[[0, 255, 255], [255, 0, 0]])\n",
    "\n",
    "# Display results\n",
    "cv2.imshow('Original image', img)\n",
    "cv2.imshow('Colored Cells', img2)\n",
    "cv2.waitKey(0)\n",
    "cv2.destroyAllWindows()"
   ]
  },
  {
   "cell_type": "code",
   "execution_count": null,
   "metadata": {},
   "outputs": [],
   "source": [
    "regions = measure.regionprops(markers, intensity_image=cells)\n",
    "\n",
    "for prop in regions:\n",
    "    print('Label: {} Area: {}'.format(prop.label, prop.area))\n",
    "\n",
    "\n",
    "propList = ['Area',\n",
    "            'equivalent_diameter', #Added... verify if it works\n",
    "            'orientation', #Added, verify if it works. Angle btwn x-axis and major axis.\n",
    "            'MajorAxisLength',\n",
    "            'MinorAxisLength',\n",
    "            'Perimeter',\n",
    "            'MinIntensity',\n",
    "            'MeanIntensity',\n",
    "            'MaxIntensity']    \n",
    "    \n",
    "\n",
    "output_file = open('cell_measurements.csv', 'w')\n",
    "output_file.write(',' + \",\".join(propList) + '\\n')\n",
    "\n",
    "for region_props in regions:\n",
    "    output_file.write(str(region_props['Label']))\n",
    "    for i,prop in enumerate(propList):\n",
    "        if(prop == 'Area'): \n",
    "            to_print = region_props[prop]*pixels_to_um**2   #Convert pixel square to um square\n",
    "        elif(prop == 'orientation'): \n",
    "            to_print = region_props[prop]*57.2958  #Convert to degrees from radians\n",
    "        elif(prop.find('Intensity') < 0):          # Any prop without Intensity in its name\n",
    "            to_print = region_props[prop]*pixels_to_um\n",
    "        else: \n",
    "            to_print = region_props[prop]     #Reamining props, basically the ones with Intensity in its name\n",
    "        output_file.write(',' + str(to_print))\n",
    "    output_file.write('\\n')"
   ]
  },
  {
   "cell_type": "code",
   "execution_count": null,
   "metadata": {},
   "outputs": [],
   "source": []
  }
 ],
 "metadata": {
  "kernelspec": {
   "display_name": "Python 3",
   "language": "python",
   "name": "python3"
  },
  "language_info": {
   "codemirror_mode": {
    "name": "ipython",
    "version": 3
   },
   "file_extension": ".py",
   "mimetype": "text/x-python",
   "name": "python",
   "nbconvert_exporter": "python",
   "pygments_lexer": "ipython3",
   "version": "3.7.4"
  }
 },
 "nbformat": 4,
 "nbformat_minor": 2
}
